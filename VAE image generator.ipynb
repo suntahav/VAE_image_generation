{
 "cells": [
  {
   "cell_type": "code",
   "execution_count": 20,
   "id": "9ee65932",
   "metadata": {},
   "outputs": [],
   "source": [
    "import torch\n",
    "import torch.nn as nn\n",
    "import torch.nn.functional as F\n",
    "import torch.optim as optim\n",
    "from torchvision import datasets, transforms\n",
    "from torchvision.utils import save_image\n",
    "from torch.utils.data import DataLoader\n",
    "import matplotlib.pyplot as plt"
   ]
  },
  {
   "cell_type": "code",
   "execution_count": 2,
   "id": "7b415df0",
   "metadata": {},
   "outputs": [],
   "source": [
    "train_dataset = datasets.MNIST(root='./files/mnist_data/', train=True, download=True, transform=transforms.ToTensor())\n",
    "test_dataset = datasets.MNIST(root='./files/mnist_data/', train=False, download=True, transform=transforms.ToTensor())"
   ]
  },
  {
   "cell_type": "code",
   "execution_count": 9,
   "id": "fc9f901f",
   "metadata": {},
   "outputs": [],
   "source": [
    "kwargs = {'num_workers': 1, 'pin_memory': True}\n",
    "train_loader = DataLoader(dataset=train_dataset, batch_size = 128, shuffle=True, **kwargs)\n",
    "test_loader = DataLoader(dataset=test_dataset, batch_size = 128, shuffle=True, **kwargs)"
   ]
  },
  {
   "cell_type": "code",
   "execution_count": 4,
   "id": "5c07cfe7",
   "metadata": {},
   "outputs": [],
   "source": [
    "# Set random seeds\n",
    "\n",
    "torch.manual_seed(1)\n",
    "torch.cuda.manual_seed(1)\n",
    "\n",
    "device = torch.device(\"cuda:0\" if torch.cuda.is_available() else \"cpu\")"
   ]
  },
  {
   "cell_type": "code",
   "execution_count": 14,
   "id": "8071d1bb",
   "metadata": {},
   "outputs": [],
   "source": [
    "class VAE(nn.Module):\n",
    "    def __init__(self, d):\n",
    "        super().__init__()\n",
    "        self.d = d\n",
    "        self.encoder = nn.Sequential(\n",
    "            nn.Linear(784, self.d ** 2),\n",
    "            nn.ReLU(),\n",
    "            nn.Linear(self.d ** 2, self.d * 2)\n",
    "        )\n",
    "        self.decoder = nn.Sequential(\n",
    "            nn.Linear(self.d, self.d ** 2),\n",
    "            nn.ReLU(),\n",
    "            nn.Linear(self.d**2, 784),\n",
    "            nn.Sigmoid()\n",
    "        )\n",
    "    \n",
    "    def reparameterise(self, mu, logvar):\n",
    "        if self.training:\n",
    "            std = logvar.mul(0.5).exp_()\n",
    "            eps = torch.randn_like(std)\n",
    "            return eps.mul(std).add_(mu)\n",
    "        else:\n",
    "            return mu\n",
    "    \n",
    "    def forward(self, x):\n",
    "        mu_log_var = self.encoder(x.view(-1, 784)).view(-1, 2, self.d)\n",
    "        mu = mu_log_var[:, 0, :]\n",
    "        log_var = mu_log_var[:, 1, :]\n",
    "        z = self.reparameterise(mu, log_var)\n",
    "        return self.decoder(z), mu, log_var\n",
    "\n",
    "model = VAE(20).to(device)"
   ]
  },
  {
   "cell_type": "code",
   "execution_count": 15,
   "id": "a4568e0d",
   "metadata": {},
   "outputs": [],
   "source": [
    "learning_rate = 1e-3\n",
    "optimizer = optim.Adam(model.parameters(),lr=learning_rate)"
   ]
  },
  {
   "cell_type": "code",
   "execution_count": 16,
   "id": "8d41b5ed",
   "metadata": {},
   "outputs": [],
   "source": [
    "def loss(x_hat, x, mu, logvar, beta=1):\n",
    "    BCE = F.binary_cross_entropy(x_hat, x.view(-1, 784), reduction='sum')\n",
    "    KLD = 0.5 * torch.sum(logvar.exp() - logvar - 1 + mu.pow(2))\n",
    "    return BCE + beta * KLD"
   ]
  },
  {
   "cell_type": "code",
   "execution_count": 17,
   "id": "12ff89b3",
   "metadata": {},
   "outputs": [
    {
     "name": "stdout",
     "output_type": "stream",
     "text": [
      "Epoch ---> 0 ----Train Loss Avg ----> 164.7892\n",
      "Epoch ---> 0 ----Test Loss Avg ----> 120.4599\n",
      "--------------------------------------------------------------------\n",
      "Epoch ---> 1 ----Train Loss Avg ----> 121.5174\n",
      "Epoch ---> 1 ----Test Loss Avg ----> 107.0416\n",
      "--------------------------------------------------------------------\n",
      "Epoch ---> 2 ----Train Loss Avg ----> 114.6050\n",
      "Epoch ---> 2 ----Test Loss Avg ----> 103.8228\n",
      "--------------------------------------------------------------------\n",
      "Epoch ---> 3 ----Train Loss Avg ----> 111.5774\n",
      "Epoch ---> 3 ----Test Loss Avg ----> 101.4135\n",
      "--------------------------------------------------------------------\n",
      "Epoch ---> 4 ----Train Loss Avg ----> 109.9096\n",
      "Epoch ---> 4 ----Test Loss Avg ----> 99.5306\n",
      "--------------------------------------------------------------------\n",
      "Epoch ---> 5 ----Train Loss Avg ----> 108.6982\n",
      "Epoch ---> 5 ----Test Loss Avg ----> 98.7006\n",
      "--------------------------------------------------------------------\n",
      "Epoch ---> 6 ----Train Loss Avg ----> 107.9338\n",
      "Epoch ---> 6 ----Test Loss Avg ----> 98.3711\n",
      "--------------------------------------------------------------------\n",
      "Epoch ---> 7 ----Train Loss Avg ----> 107.2691\n",
      "Epoch ---> 7 ----Test Loss Avg ----> 98.1152\n",
      "--------------------------------------------------------------------\n",
      "Epoch ---> 8 ----Train Loss Avg ----> 106.7651\n",
      "Epoch ---> 8 ----Test Loss Avg ----> 97.2797\n",
      "--------------------------------------------------------------------\n",
      "Epoch ---> 9 ----Train Loss Avg ----> 106.2971\n",
      "Epoch ---> 9 ----Test Loss Avg ----> 96.6970\n",
      "--------------------------------------------------------------------\n",
      "Epoch ---> 10 ----Train Loss Avg ----> 106.0242\n",
      "Epoch ---> 10 ----Test Loss Avg ----> 97.2310\n",
      "--------------------------------------------------------------------\n",
      "Epoch ---> 11 ----Train Loss Avg ----> 105.7003\n",
      "Epoch ---> 11 ----Test Loss Avg ----> 96.0398\n",
      "--------------------------------------------------------------------\n",
      "Epoch ---> 12 ----Train Loss Avg ----> 105.4546\n",
      "Epoch ---> 12 ----Test Loss Avg ----> 96.5670\n",
      "--------------------------------------------------------------------\n",
      "Epoch ---> 13 ----Train Loss Avg ----> 105.1853\n",
      "Epoch ---> 13 ----Test Loss Avg ----> 96.1319\n",
      "--------------------------------------------------------------------\n",
      "Epoch ---> 14 ----Train Loss Avg ----> 104.9515\n",
      "Epoch ---> 14 ----Test Loss Avg ----> 95.5375\n",
      "--------------------------------------------------------------------\n",
      "Epoch ---> 15 ----Train Loss Avg ----> 104.7738\n",
      "Epoch ---> 15 ----Test Loss Avg ----> 95.4900\n",
      "--------------------------------------------------------------------\n",
      "Epoch ---> 16 ----Train Loss Avg ----> 104.6042\n",
      "Epoch ---> 16 ----Test Loss Avg ----> 95.6723\n",
      "--------------------------------------------------------------------\n",
      "Epoch ---> 17 ----Train Loss Avg ----> 104.4756\n",
      "Epoch ---> 17 ----Test Loss Avg ----> 95.5333\n",
      "--------------------------------------------------------------------\n",
      "Epoch ---> 18 ----Train Loss Avg ----> 104.3057\n",
      "Epoch ---> 18 ----Test Loss Avg ----> 96.0201\n",
      "--------------------------------------------------------------------\n",
      "Epoch ---> 19 ----Train Loss Avg ----> 104.1320\n",
      "Epoch ---> 19 ----Test Loss Avg ----> 94.0841\n",
      "--------------------------------------------------------------------\n"
     ]
    }
   ],
   "source": [
    "epochs = 20\n",
    "for epoch in range(epochs):\n",
    "    model.train()\n",
    "    lossval = 0\n",
    "    for x,_ in train_loader:\n",
    "        #forward\n",
    "        x = x.to(device)\n",
    "        x_hat, mu, logvar = model(x)\n",
    "        trainloss = loss(x_hat, x, mu, logvar)\n",
    "        lossval += trainloss.item()\n",
    "        #backward\n",
    "        optimizer.zero_grad()\n",
    "        trainloss.backward()\n",
    "        optimizer.step()\n",
    "    print(f\"Epoch ---> {epoch} ----Train Loss Avg ----> {lossval / len(train_loader.dataset):.4f}\")\n",
    "    testlossval = 0\n",
    "    with torch.no_grad():\n",
    "        model.eval()\n",
    "        for x,_ in test_loader:\n",
    "            #forward\n",
    "            x = x.to(device)\n",
    "            x_hat, mu, logvar = model(x)\n",
    "            testloss = loss(x_hat, x, mu, logvar)\n",
    "            testlossval += testloss.item()\n",
    "    print(f\"Epoch ---> {epoch} ----Test Loss Avg ----> {testlossval/ len(test_loader.dataset):.4f}\")\n",
    "    print(\"--------------------------------------------------------------------\")\n",
    "    \n",
    "            "
   ]
  },
  {
   "cell_type": "code",
   "execution_count": 59,
   "id": "ad9f23f5",
   "metadata": {},
   "outputs": [],
   "source": [
    "N = 5\n",
    "z = torch.randn((N,20)).to(device)\n",
    "result = model.decoder(z)"
   ]
  },
  {
   "cell_type": "code",
   "execution_count": 60,
   "id": "d3bf9c15",
   "metadata": {},
   "outputs": [],
   "source": [
    "generated = result.data.cpu().view(-1,28,28)"
   ]
  },
  {
   "cell_type": "code",
   "execution_count": 61,
   "id": "91d15be7",
   "metadata": {},
   "outputs": [
    {
     "data": {
      "image/png": "[encoded data removed]",
      "text/plain": [
       "<Figure size 1296x1080 with 5 Axes>"
      ]
     },
     "metadata": {
      "needs_background": "light"
     },
     "output_type": "display_data"
    }
   ],
   "source": [
    "plt.figure(figsize=(18,15))\n",
    "for i,img in enumerate(generated):\n",
    "    plt.subplot(1,5,i+1)\n",
    "    plt.imshow(img, interpolation='nearest')\n"
   ]
  },
  {
   "cell_type": "code",
   "execution_count": null,
   "id": "8981e1b2",
   "metadata": {},
   "outputs": [],
   "source": []
  }
 ],
 "metadata": {
  "kernelspec": {
   "display_name": "Python 3",
   "language": "python",
   "name": "python3"
  },
  "language_info": {
   "codemirror_mode": {
    "name": "ipython",
    "version": 3
   },
   "file_extension": ".py",
   "mimetype": "text/x-python",
   "name": "python",
   "nbconvert_exporter": "python",
   "pygments_lexer": "ipython3",
   "version": "3.8.8"
  }
 },
 "nbformat": 4,
 "nbformat_minor": 5
}
